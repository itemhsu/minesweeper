{
 "cells": [
  {
   "cell_type": "code",
   "execution_count": 12,
   "metadata": {},
   "outputs": [],
   "source": [
    "bucket=\"mime4\" #define your bucket here"
   ]
  },
  {
   "cell_type": "code",
   "execution_count": 13,
   "metadata": {},
   "outputs": [
    {
     "name": "stdout",
     "output_type": "stream",
     "text": [
      "upload: ./game.js to s3://mime4/game.js                           \n",
      "upload: ./icon-192.png to s3://mime4/icon-192.png              \n",
      "upload: ./index.html to s3://mime4/index.html                   \n",
      "upload: ./manifest.json to s3://mime4/manifest.json               \n",
      "upload: ./sw.js to s3://mime4/sw.js                            \n",
      "upload: ./twemoji.js to s3://mime4/twemoji.js                     \n"
     ]
    }
   ],
   "source": [
    "!aws s3 cp game.js s3://{bucket}/game.js\n",
    "!aws s3 cp icon-192.png s3://{bucket}/icon-192.png\n",
    "!aws s3 cp index.html s3://{bucket}/index.html\n",
    "!aws s3 cp manifest.json s3://{bucket}/manifest.json\n",
    "!aws s3 cp sw.js s3://{bucket}/sw.js\n",
    "!aws s3 cp twemoji.js s3://{bucket}/twemoji.js\n",
    "                    "
   ]
  },
  {
   "cell_type": "code",
   "execution_count": null,
   "metadata": {},
   "outputs": [],
   "source": []
  }
 ],
 "metadata": {
  "kernelspec": {
   "display_name": "conda_python3",
   "language": "python",
   "name": "conda_python3"
  },
  "language_info": {
   "codemirror_mode": {
    "name": "ipython",
    "version": 3
   },
   "file_extension": ".py",
   "mimetype": "text/x-python",
   "name": "python",
   "nbconvert_exporter": "python",
   "pygments_lexer": "ipython3",
   "version": "3.6.10"
  }
 },
 "nbformat": 4,
 "nbformat_minor": 4
}
